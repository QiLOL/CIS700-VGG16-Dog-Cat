{
  "nbformat": 4,
  "nbformat_minor": 0,
  "metadata": {
    "colab": {
      "name": "analysis-test1-test2.ipynb",
      "provenance": [],
      "machine_shape": "hm",
      "authorship_tag": "ABX9TyOajdVgZly77HR7RnffG1mK",
      "include_colab_link": true
    },
    "kernelspec": {
      "name": "python3",
      "display_name": "Python 3"
    },
    "language_info": {
      "name": "python"
    },
    "accelerator": "GPU"
  },
  "cells": [
    {
      "cell_type": "markdown",
      "metadata": {
        "id": "view-in-github",
        "colab_type": "text"
      },
      "source": [
        "<a href=\"https://colab.research.google.com/github/QiLOL/CIS700-VGG16-Dog-Cat/blob/main/analysis_test1_test2.ipynb\" target=\"_parent\"><img src=\"https://colab.research.google.com/assets/colab-badge.svg\" alt=\"Open In Colab\"/></a>"
      ]
    },
    {
      "cell_type": "markdown",
      "metadata": {
        "id": "zarDjbq0HsSa"
      },
      "source": [
        "Load model and analysis the the weight"
      ]
    },
    {
      "cell_type": "markdown",
      "metadata": {
        "id": "Kzjr7fvqr3LG"
      },
      "source": [
        "load all models"
      ]
    },
    {
      "cell_type": "code",
      "metadata": {
        "colab": {
          "base_uri": "https://localhost:8080/"
        },
        "id": "grv-MQi_sEtY",
        "outputId": "f1a57c1c-b981-4821-a2bc-71051d9bf1ea"
      },
      "source": [
        "# save to google drive\n",
        "from google.colab import drive\n",
        "drive.mount('/content/drive')\n"
      ],
      "execution_count": null,
      "outputs": [
        {
          "output_type": "stream",
          "text": [
            "Mounted at /content/drive\n"
          ],
          "name": "stdout"
        }
      ]
    },
    {
      "cell_type": "markdown",
      "metadata": {
        "id": "D6av_SOXs24b"
      },
      "source": [
        "adv_trained models"
      ]
    },
    {
      "cell_type": "code",
      "metadata": {
        "id": "EKLbG-GWr2M9"
      },
      "source": [
        "!cp drive/MyDrive/model_adv_trained* ./"
      ],
      "execution_count": null,
      "outputs": []
    },
    {
      "cell_type": "markdown",
      "metadata": {
        "id": "183tcReDs8fC"
      },
      "source": [
        "original model"
      ]
    },
    {
      "cell_type": "code",
      "metadata": {
        "id": "TegeiYzCsxsT"
      },
      "source": [
        "!cp drive/MyDrive/model_ori_trained* ./"
      ],
      "execution_count": null,
      "outputs": []
    },
    {
      "cell_type": "code",
      "metadata": {
        "id": "AoYQhSVQtJ0P"
      },
      "source": [
        "# total new model\n",
        "\n",
        "!cp drive/MyDrive/model_adv_new_net.pkl ./"
      ],
      "execution_count": null,
      "outputs": []
    },
    {
      "cell_type": "code",
      "metadata": {
        "id": "ySyeNnd4tcDn"
      },
      "source": [
        "# flipped with loss data\n",
        "\n",
        "!cp drive/MyDrive/flipped* ./"
      ],
      "execution_count": null,
      "outputs": []
    },
    {
      "cell_type": "code",
      "metadata": {
        "id": "g_2PRv1VuH7a",
        "colab": {
          "base_uri": "https://localhost:8080/"
        },
        "outputId": "a402c777-b256-445c-cb6a-cc080dfc03a1"
      },
      "source": [
        "import glob\n",
        "print(glob.glob(\"./*.pkl\"))"
      ],
      "execution_count": null,
      "outputs": [
        {
          "output_type": "stream",
          "text": [
            "[]\n"
          ],
          "name": "stdout"
        }
      ]
    },
    {
      "cell_type": "markdown",
      "metadata": {
        "id": "YNXmX8gir1Zr"
      },
      "source": [
        ""
      ]
    },
    {
      "cell_type": "code",
      "metadata": {
        "id": "P8rk1wn2Hrad"
      },
      "source": [
        "%matplotlib inline\n",
        "import numpy as np # linear algebra\n",
        "import pandas as pd # data processing, CSV file I/O (e.g. pd.read_csv)\n",
        "import os, glob, time, copy, random, zipfile\n",
        "import matplotlib.pyplot as plt\n",
        "from PIL import Image\n",
        "from sklearn.model_selection import train_test_split\n",
        "from tqdm import tqdm_notebook as tqdm\n",
        "\n",
        "\n",
        "import torch\n",
        "import torch.nn as nn\n",
        "import torch.optim as optim\n",
        "import torch.utils.data as data\n",
        "import torch.nn.functional as F\n",
        "import torchvision\n",
        "from torchvision import models, transforms\n",
        "\n"
      ],
      "execution_count": null,
      "outputs": []
    },
    {
      "cell_type": "markdown",
      "metadata": {
        "id": "VKUZ7VS8rz1N"
      },
      "source": [
        ""
      ]
    },
    {
      "cell_type": "code",
      "metadata": {
        "id": "w0_-UxxgH9ba",
        "colab": {
          "base_uri": "https://localhost:8080/"
        },
        "outputId": "1cd856a2-b95b-4caf-9368-d88b90d57f8f"
      },
      "source": [
        "import glob\n",
        "print(glob.glob(\"./*.pkl\"))"
      ],
      "execution_count": null,
      "outputs": [
        {
          "output_type": "stream",
          "text": [
            "['./model_adv_trained2_flipped_0.01.pkl', './model_adv_trained2_0.0001.pkl', './model_adv_trained2_0.01.pkl', './model_ori_trained.pkl', './model_adv_trained2_flipped_0.0001.pkl', './model_adv_new_net.pkl', './model_adv_trained2_0.007.pkl', './flipped1_1.pkl', './model_adv_trained_flipped_0.0001.pkl', './model_adv_trained2_flipped_0.007.pkl', './model_adv_trained1_0.007.pkl', './model_adv_trained_flipped_0.007.pkl', './flipped1_3.pkl', './model_adv_trained2_flipped_1e-05.pkl', './model_adv_trained1_1e-05.pkl', './flipped2_1.pkl', './flipped_adv.pkl', './model_ori_trained2.pkl', './model_adv_trained2_1e-05.pkl', './model_adv_trained1_0.0001.pkl', './flipped2_4.pkl', './flipped2_3.pkl', './flipped1_2.pkl', './model_adv_trained_flipped_1e-05.pkl', './flipped2_2.pkl']\n"
          ],
          "name": "stdout"
        }
      ]
    },
    {
      "cell_type": "code",
      "metadata": {
        "id": "j_5dF0aVUWKH"
      },
      "source": [
        "baseline1 = \"model_ori_trained.pkl\"\n",
        "baseline2 = \"model_ori_trained2.pkl\"\n",
        "\n",
        "compare_setting1 = ['model_adv_trained1_0.007.pkl', 'model_adv_trained1_0.0001.pkl', 'model_adv_trained1_1e-05.pkl']\n",
        "compare_setting2 = ['model_adv_trained2_0.01.pkl','model_adv_trained2_0.007.pkl', 'model_adv_trained2_0.0001.pkl', 'model_adv_trained2_1e-05.pkl']\n",
        "\n",
        "compare_flipped_setting1 = ['model_adv_trained_flipped_0.007.pkl', 'model_adv_trained_flipped_0.0001.pkl', 'model_adv_trained_flipped_1e-05.pkl']\n",
        "compare_flipped_setting2 = ['model_adv_trained2_flipped_0.01.pkl','model_adv_trained2_flipped_0.007.pkl', 'model_adv_trained2_flipped_0.0001.pkl', 'model_adv_trained2_flipped_1e-05.pkl']\n",
        "\n",
        "\n",
        "newmodel2 = \"model_adv_new_net.pkl\"\n",
        "\n"
      ],
      "execution_count": null,
      "outputs": []
    },
    {
      "cell_type": "code",
      "metadata": {
        "id": "vVjLGG4CWlYs"
      },
      "source": [
        "baseline1_net = torch.load(baseline1)\n",
        "baseline2_net = torch.load(baseline2)"
      ],
      "execution_count": null,
      "outputs": []
    },
    {
      "cell_type": "code",
      "metadata": {
        "id": "AefPTpdbWvFm"
      },
      "source": [
        "def getWeights(model):\n",
        "  weights_adv_dict = {}\n",
        "  for name, param in model.named_parameters():\n",
        "      if param.requires_grad:\n",
        "          print(name)\n",
        "          weights_adv_dict[name] = param.data\n",
        "  return weights_adv_dict\n",
        "\n",
        "  "
      ],
      "execution_count": null,
      "outputs": []
    },
    {
      "cell_type": "code",
      "metadata": {
        "colab": {
          "base_uri": "https://localhost:8080/"
        },
        "id": "KNhSunfjXR5y",
        "outputId": "c5196d8b-7aae-4bf2-d794-fc6c367aa759"
      },
      "source": [
        "baseline1_weights = getWeights(baseline1_net)"
      ],
      "execution_count": null,
      "outputs": [
        {
          "output_type": "stream",
          "text": [
            "classifier.6.weight\n",
            "classifier.6.bias\n"
          ],
          "name": "stdout"
        }
      ]
    },
    {
      "cell_type": "code",
      "metadata": {
        "colab": {
          "base_uri": "https://localhost:8080/"
        },
        "id": "FeYmI0ovXaHm",
        "outputId": "8a4d29df-f11c-4119-9bf5-f7d7872e1a95"
      },
      "source": [
        "baseline2_weights = getWeights(baseline2_net)"
      ],
      "execution_count": null,
      "outputs": [
        {
          "output_type": "stream",
          "text": [
            "features.0.weight\n",
            "features.0.bias\n",
            "classifier.6.weight\n",
            "classifier.6.bias\n"
          ],
          "name": "stdout"
        }
      ]
    },
    {
      "cell_type": "code",
      "metadata": {
        "colab": {
          "base_uri": "https://localhost:8080/"
        },
        "id": "cAF-YDErXdLB",
        "outputId": "5df4d070-03e5-43e9-b3c3-04a210ad40ff"
      },
      "source": [
        "compare1_dict = {}\n",
        "for i in range(len(compare_setting1)):\n",
        "  tmp_name = compare_setting1[i]\n",
        "  tmp_model = torch.load(tmp_name)\n",
        "  tmp_weights = getWeights(tmp_model)\n",
        "  compare1_dict[tmp_name] = tmp_weights"
      ],
      "execution_count": null,
      "outputs": [
        {
          "output_type": "stream",
          "text": [
            "classifier.6.weight\n",
            "classifier.6.bias\n",
            "classifier.6.weight\n",
            "classifier.6.bias\n",
            "classifier.6.weight\n",
            "classifier.6.bias\n"
          ],
          "name": "stdout"
        }
      ]
    },
    {
      "cell_type": "code",
      "metadata": {
        "colab": {
          "base_uri": "https://localhost:8080/"
        },
        "id": "HtY2g3grYs4o",
        "outputId": "5e663384-ee62-4886-e4ea-4f89c7f9d8ca"
      },
      "source": [
        "compare1_dict['model_adv_trained1_0.007.pkl']"
      ],
      "execution_count": null,
      "outputs": [
        {
          "output_type": "execute_result",
          "data": {
            "text/plain": [
              "{'classifier.6.bias': tensor([-0.0126, -0.0165], device='cuda:0'),\n",
              " 'classifier.6.weight': tensor([[ 0.0111,  0.0216,  0.0042,  ...,  0.0011, -0.0094, -0.0071],\n",
              "         [ 0.0016,  0.0008, -0.0194,  ...,  0.0139,  0.0189,  0.0045]],\n",
              "        device='cuda:0')}"
            ]
          },
          "metadata": {
            "tags": []
          },
          "execution_count": 17
        }
      ]
    },
    {
      "cell_type": "code",
      "metadata": {
        "colab": {
          "base_uri": "https://localhost:8080/"
        },
        "id": "DYfxUfuOY2hB",
        "outputId": "c3c59dfc-bdd6-42ff-d226-472d1375c524"
      },
      "source": [
        "compare1_dict['model_adv_trained1_0.0001.pkl']"
      ],
      "execution_count": null,
      "outputs": [
        {
          "output_type": "execute_result",
          "data": {
            "text/plain": [
              "{'classifier.6.bias': tensor([-0.0233, -0.0059], device='cuda:0'),\n",
              " 'classifier.6.weight': tensor([[ 0.0100,  0.0151,  0.0063,  ..., -0.0019, -0.0069, -0.0044],\n",
              "         [ 0.0027,  0.0073, -0.0215,  ...,  0.0169,  0.0165,  0.0018]],\n",
              "        device='cuda:0')}"
            ]
          },
          "metadata": {
            "tags": []
          },
          "execution_count": 18
        }
      ]
    },
    {
      "cell_type": "code",
      "metadata": {
        "colab": {
          "base_uri": "https://localhost:8080/"
        },
        "id": "Hpuh3T70YjhV",
        "outputId": "3b734a5c-eaa1-422a-b6b6-e23bbe95b7e0"
      },
      "source": [
        "compare2_dict = {}\n",
        "for i in range(len(compare_setting2)):\n",
        "  tmp_name = compare_setting2[i]\n",
        "  tmp_model = torch.load(tmp_name)\n",
        "  tmp_weights = getWeights(tmp_model)\n",
        "  compare2_dict[tmp_name] = tmp_weights"
      ],
      "execution_count": null,
      "outputs": [
        {
          "output_type": "stream",
          "text": [
            "features.0.weight\n",
            "features.0.bias\n",
            "classifier.6.weight\n",
            "classifier.6.bias\n",
            "features.0.weight\n",
            "features.0.bias\n",
            "classifier.6.weight\n",
            "classifier.6.bias\n",
            "features.0.weight\n",
            "features.0.bias\n",
            "classifier.6.weight\n",
            "classifier.6.bias\n",
            "features.0.weight\n",
            "features.0.bias\n",
            "classifier.6.weight\n",
            "classifier.6.bias\n"
          ],
          "name": "stdout"
        }
      ]
    },
    {
      "cell_type": "code",
      "metadata": {
        "colab": {
          "base_uri": "https://localhost:8080/"
        },
        "id": "GO7k-sn4YroG",
        "outputId": "ba35d076-6d77-4945-967a-62295f437f89"
      },
      "source": [
        "compare1_flipped_dict = {}\n",
        "for i in range(len(compare_flipped_setting1)):\n",
        "  tmp_name = compare_flipped_setting1[i]\n",
        "  tmp_model = torch.load(tmp_name)\n",
        "  tmp_weights = getWeights(tmp_model)\n",
        "  compare1_flipped_dict[tmp_name] = tmp_weights"
      ],
      "execution_count": null,
      "outputs": [
        {
          "output_type": "stream",
          "text": [
            "classifier.6.weight\n",
            "classifier.6.bias\n",
            "classifier.6.weight\n",
            "classifier.6.bias\n",
            "classifier.6.weight\n",
            "classifier.6.bias\n"
          ],
          "name": "stdout"
        }
      ]
    },
    {
      "cell_type": "code",
      "metadata": {
        "colab": {
          "base_uri": "https://localhost:8080/"
        },
        "id": "BdQjxvqhZOUd",
        "outputId": "b92e8b70-f3db-4143-a9ea-1ba515d93177"
      },
      "source": [
        "compare2_flipped_dict = {}\n",
        "for i in range(len(compare_flipped_setting2)):\n",
        "  tmp_name = compare_flipped_setting2[i]\n",
        "  tmp_model = torch.load(tmp_name)\n",
        "  tmp_weights = getWeights(tmp_model)\n",
        "  compare2_flipped_dict[tmp_name] = tmp_weights"
      ],
      "execution_count": null,
      "outputs": [
        {
          "output_type": "stream",
          "text": [
            "features.0.weight\n",
            "features.0.bias\n",
            "classifier.6.weight\n",
            "classifier.6.bias\n",
            "features.0.weight\n",
            "features.0.bias\n",
            "classifier.6.weight\n",
            "classifier.6.bias\n",
            "features.0.weight\n",
            "features.0.bias\n",
            "classifier.6.weight\n",
            "classifier.6.bias\n",
            "features.0.weight\n",
            "features.0.bias\n",
            "classifier.6.weight\n",
            "classifier.6.bias\n"
          ],
          "name": "stdout"
        }
      ]
    },
    {
      "cell_type": "code",
      "metadata": {
        "colab": {
          "base_uri": "https://localhost:8080/"
        },
        "id": "FTeIUiZkZaZ6",
        "outputId": "7980b12e-037c-4e0c-b518-e0b9c4b87af5"
      },
      "source": [
        "new_net2 = torch.load(newmodel2)\n",
        "new_net2_weight = getWeights(new_net2)"
      ],
      "execution_count": null,
      "outputs": [
        {
          "output_type": "stream",
          "text": [
            "features.0.weight\n",
            "features.0.bias\n",
            "classifier.6.weight\n",
            "classifier.6.bias\n"
          ],
          "name": "stdout"
        }
      ]
    },
    {
      "cell_type": "code",
      "metadata": {
        "id": "qTHjNqHOZ6Ap"
      },
      "source": [
        "# compare\n",
        "# non-flipped\n",
        "\n",
        "def compare_model(basemodel_weight, children_weight_dict):\n",
        "  result_dict = {}\n",
        "  for key in children_weight_dict:\n",
        "    result_dict[key] = {}\n",
        "    for cate in  basemodel_weight:\n",
        "      result_dict[key][cate] = children_weight_dict[key][cate] - basemodel_weight[cate]\n",
        "  return result_dict"
      ],
      "execution_count": null,
      "outputs": []
    },
    {
      "cell_type": "code",
      "metadata": {
        "id": "5V-8tZp4aE2b"
      },
      "source": [
        "compare1_result_dict = compare_model(baseline1_weights, compare1_dict)"
      ],
      "execution_count": null,
      "outputs": []
    },
    {
      "cell_type": "code",
      "metadata": {
        "id": "ElX35enoaVBk"
      },
      "source": [
        "compare2_result_dict = compare_model(baseline2_weights, compare2_dict)"
      ],
      "execution_count": null,
      "outputs": []
    },
    {
      "cell_type": "code",
      "metadata": {
        "id": "eGQR5c8udPUz"
      },
      "source": [
        "# flipped\n",
        "\n",
        "compare1_flipped_result_dict = compare_model(baseline1_weights, compare1_flipped_dict)\n",
        "compare2_flipped_result_dict = compare_model(baseline2_weights, compare2_flipped_dict)\n"
      ],
      "execution_count": null,
      "outputs": []
    },
    {
      "cell_type": "code",
      "metadata": {
        "id": "n6_0exHafLtF"
      },
      "source": [
        "new2_result_dict = {}\n",
        "for key in new_net2_weight:\n",
        "  new2_result_dict[key] = new_net2_weight[key] - baseline2_weights[key]"
      ],
      "execution_count": null,
      "outputs": []
    },
    {
      "cell_type": "code",
      "metadata": {
        "colab": {
          "base_uri": "https://localhost:8080/"
        },
        "id": "LNhCKZPhf2E-",
        "outputId": "62636791-45be-4d80-e959-862f39207d7b"
      },
      "source": [
        "new2_result_dict.keys()"
      ],
      "execution_count": null,
      "outputs": [
        {
          "output_type": "execute_result",
          "data": {
            "text/plain": [
              "dict_keys(['features.0.weight', 'features.0.bias', 'classifier.6.weight', 'classifier.6.bias'])"
            ]
          },
          "metadata": {
            "tags": []
          },
          "execution_count": 20
        }
      ]
    },
    {
      "cell_type": "code",
      "metadata": {
        "id": "lHS036aMhSUM"
      },
      "source": [
        "max_v = new2_result_dict['features.0.weight'].max() \n",
        "min_v = new2_result_dict['features.0.weight'].min()\n",
        "\n",
        "normalized_v = (new2_result_dict['features.0.weight'] - min_v) / (max_v - min_v)"
      ],
      "execution_count": null,
      "outputs": []
    },
    {
      "cell_type": "code",
      "metadata": {
        "colab": {
          "base_uri": "https://localhost:8080/",
          "height": 861
        },
        "id": "_pJ40u1ZhW1T",
        "outputId": "58b2faed-7ab8-4057-8b14-ddfcdee9dca7"
      },
      "source": [
        "def show(img):\n",
        "   plt.rcParams[\"figure.figsize\"] = (8,5)\n",
        "   plt.figure(dpi=200)\n",
        "   npimg = img.numpy()\n",
        "   plt.imshow(np.transpose(npimg, (1,2,0)), interpolation='nearest')\n",
        "\n",
        "video = normalized_v.cpu()\n",
        "grid = vutils.make_grid(video)\n",
        "show(grid) # here to use save_img func "
      ],
      "execution_count": null,
      "outputs": [
        {
          "output_type": "display_data",
          "data": {
            "image/png": "[encoded data removed]",
            "text/plain": [
              "<Figure size 1600x1000 with 1 Axes>"
            ]
          },
          "metadata": {
            "tags": [],
            "needs_background": "light"
          }
        }
      ]
    },
    {
      "cell_type": "code",
      "metadata": {
        "colab": {
          "base_uri": "https://localhost:8080/"
        },
        "id": "a9vLOW4Ah1cC",
        "outputId": "ca27f61f-90a2-4cdc-ff85-622a7d47ae70"
      },
      "source": [
        ""
      ],
      "execution_count": null,
      "outputs": [
        {
          "output_type": "execute_result",
          "data": {
            "text/plain": [
              "tensor([[[0.0079, 0.0070, 0.0051],\n",
              "         [0.0093, 0.0068, 0.0054],\n",
              "         [0.0092, 0.0062, 0.0040]],\n",
              "\n",
              "        [[0.0046, 0.0045, 0.0033],\n",
              "         [0.0048, 0.0037, 0.0034],\n",
              "         [0.0046, 0.0033, 0.0016]],\n",
              "\n",
              "        [[0.0066, 0.0064, 0.0062],\n",
              "         [0.0061, 0.0061, 0.0065],\n",
              "         [0.0058, 0.0065, 0.0050]]], device='cuda:0')"
            ]
          },
          "metadata": {
            "tags": []
          },
          "execution_count": 37
        }
      ]
    },
    {
      "cell_type": "code",
      "metadata": {
        "colab": {
          "base_uri": "https://localhost:8080/"
        },
        "id": "qlK0mcVNjMxt",
        "outputId": "2369de64-476d-490d-95c9-1d35a06e1eab"
      },
      "source": [
        "baseline2_weights['features.0.weight'][8] "
      ],
      "execution_count": null,
      "outputs": [
        {
          "output_type": "execute_result",
          "data": {
            "text/plain": [
              "tensor([[[-3.1752e-01, -3.6403e-01, -8.2313e-02],\n",
              "         [-1.3639e-01,  3.9206e-01,  3.4175e-01],\n",
              "         [ 8.3603e-02,  4.1264e-01,  3.7076e-01]],\n",
              "\n",
              "        [[ 6.7870e-03, -3.2416e-01, -4.3098e-02],\n",
              "         [-2.9159e-01, -3.2892e-02, -1.3115e-01],\n",
              "         [-2.9612e-01, -1.6813e-01, -2.6802e-01]],\n",
              "\n",
              "        [[ 4.1039e-01,  1.5659e-01,  5.2691e-02],\n",
              "         [ 1.7694e-01,  3.1806e-01, -3.8213e-02],\n",
              "         [-7.6927e-04,  1.5463e-04, -2.6678e-01]]], device='cuda:0')"
            ]
          },
          "metadata": {
            "tags": []
          },
          "execution_count": 36
        }
      ]
    },
    {
      "cell_type": "code",
      "metadata": {
        "colab": {
          "base_uri": "https://localhost:8080/"
        },
        "id": "RksAY8D-jQjA",
        "outputId": "eea7842b-6f4d-45e5-ef51-660a092fadde"
      },
      "source": [
        "# the last layer\n",
        "\n",
        "new2_result_dict['classifier.6.weight'].max()"
      ],
      "execution_count": null,
      "outputs": [
        {
          "output_type": "execute_result",
          "data": {
            "text/plain": [
              "tensor(0.0628, device='cuda:0')"
            ]
          },
          "metadata": {
            "tags": []
          },
          "execution_count": 47
        }
      ]
    },
    {
      "cell_type": "code",
      "metadata": {
        "colab": {
          "base_uri": "https://localhost:8080/"
        },
        "id": "0xUrH8EomUZx",
        "outputId": "6089cb3a-fddf-4a74-9d30-f620aef39bd1"
      },
      "source": [
        "new2_result_dict['classifier.6.weight'].min()"
      ],
      "execution_count": null,
      "outputs": [
        {
          "output_type": "execute_result",
          "data": {
            "text/plain": [
              "tensor(-0.0635, device='cuda:0')"
            ]
          },
          "metadata": {
            "tags": []
          },
          "execution_count": 48
        }
      ]
    },
    {
      "cell_type": "code",
      "metadata": {
        "id": "4Tfxp8_4mf2c"
      },
      "source": [
        "max_v = new2_result_dict['classifier.6.weight'].max() \n",
        "min_v = new2_result_dict['classifier.6.weight'].min()\n",
        "\n",
        "normalized_v = (new2_result_dict['classifier.6.weight'] - min_v) / (max_v - min_v)"
      ],
      "execution_count": null,
      "outputs": []
    },
    {
      "cell_type": "code",
      "metadata": {
        "colab": {
          "base_uri": "https://localhost:8080/"
        },
        "id": "svpdL4OVnEYc",
        "outputId": "b476a949-e9df-4b08-8c1c-48fa73197510"
      },
      "source": [
        "normalized_v.mean()"
      ],
      "execution_count": null,
      "outputs": [
        {
          "output_type": "execute_result",
          "data": {
            "text/plain": [
              "tensor(0.4612, device='cuda:0')"
            ]
          },
          "metadata": {
            "tags": []
          },
          "execution_count": 62
        }
      ]
    },
    {
      "cell_type": "code",
      "metadata": {
        "colab": {
          "base_uri": "https://localhost:8080/",
          "height": 867
        },
        "id": "mgSrcwAZnHPG",
        "outputId": "51790ddd-3f59-4826-d18f-231bf2335ceb"
      },
      "source": [
        "import matplotlib.pyplot as plt \n",
        "import numpy as np \n",
        "\n",
        "plt.rcParams[\"figure.figsize\"] = (8,5)\n",
        "plt.figure(dpi=200)\n",
        " \n",
        "X = np.resize(normalized_v.cpu().numpy(), (128, 64))\n",
        "plt.imshow(X, cmap=\"gray\") \n",
        "plt.show() "
      ],
      "execution_count": null,
      "outputs": [
        {
          "output_type": "display_data",
          "data": {
            "image/png": "[encoded data removed]",
            "text/plain": [
              "<Figure size 1600x1000 with 1 Axes>"
            ]
          },
          "metadata": {
            "tags": [],
            "needs_background": "light"
          }
        }
      ]
    },
    {
      "cell_type": "code",
      "metadata": {
        "colab": {
          "base_uri": "https://localhost:8080/"
        },
        "id": "9VSaeyFjoD5-",
        "outputId": "ddbeaae9-7306-49f6-c550-e91db9e83e9d"
      },
      "source": [
        ""
      ],
      "execution_count": null,
      "outputs": [
        {
          "output_type": "execute_result",
          "data": {
            "text/plain": [
              "array([[0.50738186, 0.4819674 , 0.3756057 , ..., 0.5455887 , 0.6282453 ,\n",
              "        0.4840669 ],\n",
              "       [0.33352295, 0.61852866, 0.5702368 , ..., 0.4607268 , 0.23645768,\n",
              "        0.35954922]], dtype=float32)"
            ]
          },
          "metadata": {
            "tags": []
          },
          "execution_count": 52
        }
      ]
    },
    {
      "cell_type": "code",
      "metadata": {
        "id": "tCtoOyahoHeH"
      },
      "source": [
        "compare1_result_dict\n",
        "compare1_flipped_result_dict"
      ],
      "execution_count": null,
      "outputs": []
    },
    {
      "cell_type": "code",
      "metadata": {
        "colab": {
          "base_uri": "https://localhost:8080/",
          "height": 540
        },
        "id": "Ww9FXrJNryWD",
        "outputId": "4fbc4ffb-c901-4202-a56b-30e8520c81c7"
      },
      "source": [
        "# the last layer\n",
        "test_result_dict = compare2_flipped_result_dict\n",
        "normalized_dict={}\n",
        "for key in test_result_dict:\n",
        "  # do mean\n",
        "  print(key)\n",
        "  print(test_result_dict[key]['classifier.6.weight'][0].mean())\n",
        "\n",
        "  # normalize\n",
        "  max_v = test_result_dict[key]['classifier.6.weight'][0].max() \n",
        "  min_v = test_result_dict[key]['classifier.6.weight'][0].min()\n",
        "  normalized_v = (test_result_dict[key]['classifier.6.weight'][0] - min_v) / (max_v - min_v)\n",
        "\n",
        "  print(normalized_v.mean())\n",
        "\n",
        "  X = np.resize(normalized_v.cpu().numpy(), (64, 64))\n",
        "  normalized_dict[key] = normalized_v.cpu().numpy()\n",
        "  plt.title(key)\n",
        "  plt.imshow(X, cmap=\"gray\") \n",
        "  plt.savefig(key+\".pdf\")\n"
      ],
      "execution_count": null,
      "outputs": [
        {
          "output_type": "stream",
          "text": [
            "model_adv_trained2_flipped_0.01.pkl\n",
            "tensor(0.0001, device='cuda:0')\n",
            "tensor(0.4913, device='cuda:0')\n",
            "model_adv_trained2_flipped_0.007.pkl\n",
            "tensor(-2.0768e-05, device='cuda:0')\n",
            "tensor(0.5032, device='cuda:0')\n",
            "model_adv_trained2_flipped_0.0001.pkl\n",
            "tensor(3.0425e-05, device='cuda:0')\n",
            "tensor(0.5154, device='cuda:0')\n",
            "model_adv_trained2_flipped_1e-05.pkl\n",
            "tensor(0.0004, device='cuda:0')\n",
            "tensor(0.5058, device='cuda:0')\n"
          ],
          "name": "stdout"
        },
        {
          "output_type": "display_data",
          "data": {
            "image/png": "[encoded data removed]",
            "text/plain": [
              "<Figure size 576x360 with 1 Axes>"
            ]
          },
          "metadata": {
            "tags": [],
            "needs_background": "light"
          }
        }
      ]
    },
    {
      "cell_type": "code",
      "metadata": {
        "colab": {
          "base_uri": "https://localhost:8080/"
        },
        "id": "jH2D1C2hraqX",
        "outputId": "9d62066b-418a-44f0-90a5-6c0f2d542ce5"
      },
      "source": [
        "import difflib\n",
        "sm=difflib.SequenceMatcher(None,normalized_dict['model_adv_trained_flipped_0.007.pkl'],normalized_dict['model_adv_trained_flipped_1e-05.pkl'])\n",
        "sm.ratio()"
      ],
      "execution_count": null,
      "outputs": [
        {
          "output_type": "execute_result",
          "data": {
            "text/plain": [
              "0.00048828125"
            ]
          },
          "metadata": {
            "tags": []
          },
          "execution_count": 85
        }
      ]
    },
    {
      "cell_type": "code",
      "metadata": {
        "colab": {
          "base_uri": "https://localhost:8080/"
        },
        "id": "GqmgC7EKuMi0",
        "outputId": "ea004068-529b-4841-a6ad-5edb92886dc9"
      },
      "source": [
        "normalized_dict.keys()"
      ],
      "execution_count": null,
      "outputs": [
        {
          "output_type": "execute_result",
          "data": {
            "text/plain": [
              "dict_keys(['model_adv_trained_flipped_0.007.pkl', 'model_adv_trained_flipped_0.0001.pkl', 'model_adv_trained_flipped_1e-05.pkl'])"
            ]
          },
          "metadata": {
            "tags": []
          },
          "execution_count": 84
        }
      ]
    },
    {
      "cell_type": "code",
      "metadata": {
        "id": "Y4gyzTUQvftI"
      },
      "source": [
        "!cp *_lastlayer.pdf drive/MyDrive/\n"
      ],
      "execution_count": null,
      "outputs": []
    },
    {
      "cell_type": "code",
      "metadata": {
        "colab": {
          "base_uri": "https://localhost:8080/",
          "height": 540
        },
        "id": "dmzQQXVY1-oJ",
        "outputId": "97e50bde-b054-4c1d-82d4-09f216994df0"
      },
      "source": [
        "# the first layer\n",
        "\n",
        "\n",
        "test_result_dict = compare2_result_dict\n",
        "normalized_dict={}\n",
        "for key in test_result_dict:\n",
        "  # do mean\n",
        "  print(key)\n",
        "  print(test_result_dict[key]['features.0.weight'].mean())\n",
        "\n",
        "  # normalize\n",
        "  max_v = test_result_dict[key]['features.0.weight'].max() \n",
        "  min_v = test_result_dict[key]['features.0.weight'].min()\n",
        "  normalized_v = (test_result_dict[key]['features.0.weight'] - min_v) / (max_v - min_v)\n",
        "\n",
        "  print(normalized_v.mean())\n",
        "\n",
        "  video = normalized_v.cpu()\n",
        "  grid = vutils.make_grid(video)\n",
        "  plt.title(key)\n",
        "  npimg = grid.numpy()\n",
        "  plt.imshow(np.transpose(npimg, (1,2,0)), interpolation='nearest')\n",
        "\n",
        "  plt.savefig(key+\"_lastlayer.pdf\")\n"
      ],
      "execution_count": null,
      "outputs": [
        {
          "output_type": "stream",
          "text": [
            "model_adv_trained2_0.01.pkl\n",
            "tensor(-0.0003, device='cuda:0')\n",
            "tensor(0.5393, device='cuda:0')\n",
            "model_adv_trained2_0.007.pkl\n",
            "tensor(-0.0004, device='cuda:0')\n",
            "tensor(0.5151, device='cuda:0')\n",
            "model_adv_trained2_0.0001.pkl\n",
            "tensor(-0.0007, device='cuda:0')\n",
            "tensor(0.5231, device='cuda:0')\n",
            "model_adv_trained2_1e-05.pkl\n",
            "tensor(-0.0003, device='cuda:0')\n",
            "tensor(0.3777, device='cuda:0')\n"
          ],
          "name": "stdout"
        },
        {
          "output_type": "display_data",
          "data": {
            "image/png": "[encoded data removed]",
            "text/plain": [
              "<Figure size 576x360 with 1 Axes>"
            ]
          },
          "metadata": {
            "tags": [],
            "needs_background": "light"
          }
        }
      ]
    },
    {
      "cell_type": "code",
      "metadata": {
        "id": "zD9J0HTW3r3d"
      },
      "source": [
        ""
      ],
      "execution_count": null,
      "outputs": []
    }
  ]
}